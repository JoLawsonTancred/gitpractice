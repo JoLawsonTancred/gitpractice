{
 "cells": [
  {
   "cell_type": "code",
   "execution_count": 1,
   "metadata": {},
   "outputs": [],
   "source": [
    "#Import cifar100 dataset for image classification training\n",
    "\n",
    "from keras.datasets import cifar100\n",
    "(X_train, y_train), (X_test, y_test) = cifar100.load_data(label_mode=\"fine\")"
   ]
  },
  {
   "cell_type": "code",
   "execution_count": null,
   "metadata": {},
   "outputs": [],
   "source": [
    "#Train the network\n",
    "\n",
    "import autokeras as ak\n",
    "\n",
    "lear_classifier = ak.ImageClassifier(max_trials=1)\n",
    "lear_classifier.fit(X_train, y_train, epochs=5)"
   ]
  },
  {
   "cell_type": "code",
   "execution_count": null,
   "metadata": {},
   "outputs": [],
   "source": [
    "#Search images by Edward Lear in the V&A collection\n",
    "\n",
    "import requests\n",
    "import pandas as pd\n",
    "\n",
    "vam_response = pd.read_csv('https://api.vam.ac.uk/v2/objects/search?q_actor=edward%20lear&images_exist=1&response_format=csv&page_size=50')\n",
    "vam_waterlilies_all_df = pd.DataFrame(vam_response)\n",
    "vam_waterlilies_all_df.head(10)"
   ]
  },
  {
   "cell_type": "code",
   "execution_count": 17,
   "metadata": {},
   "outputs": [],
   "source": [
    "#Convert image of bird (https://collections.vam.ac.uk/item/O1025328/drawing-lear-edward/) into correct size for neural network\n",
    "\n",
    "import requests\n",
    "from tensorflow.keras.preprocessing import image\n",
    "from PIL import Image\n",
    "\n",
    "req = requests.get(\"https://api.vam.ac.uk/v2/object/O1025328\")\n",
    "lamp = req.json()\n",
    "lamp_thumbnail_url = lamp['meta']['images']['_primary_thumbnail']\n",
    "response = requests.get(lamp_thumbnail_url, stream=True)\n",
    "img_array = None\n",
    "img = Image.open(response.raw)\n",
    "img = img.convert('RGB')\n",
    "img = img.resize((32,32), Image.NEAREST)\n",
    "img_array = image.img_to_array(img)"
   ]
  },
  {
   "cell_type": "code",
   "execution_count": null,
   "metadata": {},
   "outputs": [],
   "source": [
    "#Get prediction\n",
    "\n",
    "import numpy as np\n",
    "\n",
    "predictions = lear_classifier.predict(np.array([img_array]))"
   ]
  }
 ],
 "metadata": {
  "kernelspec": {
   "display_name": "Python 3 (ipykernel)",
   "language": "python",
   "name": "python3"
  },
  "language_info": {
   "codemirror_mode": {
    "name": "ipython",
    "version": 3
   },
   "file_extension": ".py",
   "mimetype": "text/x-python",
   "name": "python",
   "nbconvert_exporter": "python",
   "pygments_lexer": "ipython3",
   "version": "3.9.7"
  }
 },
 "nbformat": 4,
 "nbformat_minor": 4
}
